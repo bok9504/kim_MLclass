{
 "cells": [
  {
   "cell_type": "markdown",
   "metadata": {},
   "source": [
    "# 학교 모의고사에 비교한 데이터 셋"
   ]
  },
  {
   "cell_type": "markdown",
   "metadata": {},
   "source": [
    "## 1. 훈련셋, 검증셋, 시험셋"
   ]
  },
  {
   "cell_type": "markdown",
   "metadata": {},
   "source": [
    "![image](image/dataset1.png)"
   ]
  },
  {
   "cell_type": "markdown",
   "metadata": {},
   "source": [
    "#### - 모의고사 5회분 : 훈련셋\n",
    "#### - 작년 수능 문제  : 시험셋\n",
    "#### - 각각의 문제       : 샘플, 혹은 데이터   ( 각 모의고사가 100문제며, 1회분 푼다 가정시, 배치사이즈는 100)\n",
    "#### - 학생 3명            : 모델 3개\n",
    "#### - 올해 수능 문제  : 실제 데이터 (아직 보지못한 데이터)\n",
    "#### - 반복해서 푸는 횟수 : epochs "
   ]
  },
  {
   "cell_type": "markdown",
   "metadata": {},
   "source": [
    "### 1) 학습방법 1"
   ]
  },
  {
   "cell_type": "markdown",
   "metadata": {},
   "source": [
    "![image](image/Dataset2.png)"
   ]
  },
  {
   "cell_type": "markdown",
   "metadata": {},
   "source": [
    "#### - 모든 데이터를 훈련셋으로 활용하고 실제 문제를 시험셋으로 활용하는 경우\n",
    "#### - 모델 검증 및 테스트 없이 훈련만 진행한 모델을 실무에 투입하는 꼴"
   ]
  },
  {
   "cell_type": "markdown",
   "metadata": {},
   "source": [
    "### 2) 학습방법 2"
   ]
  },
  {
   "cell_type": "markdown",
   "metadata": {},
   "source": [
    "![image](image/Dataset3.png)"
   ]
  },
  {
   "cell_type": "markdown",
   "metadata": {},
   "source": [
    "#### - 모의고사 5회분을 훈련셋으로 이용하고 작년 수능 문제를 시험셋으로 활용하여, 올해 수능 문제에는 최고의 모델 활용\n",
    "#### - 5개의 훈련셋을 이용하여 학습, 하나의 테스트 셋으로 테스트 진행 이후, 정확도 높은 모델을 실무에 투입"
   ]
  },
  {
   "cell_type": "markdown",
   "metadata": {},
   "source": [
    "### 3) 학습방법 3"
   ]
  },
  {
   "cell_type": "markdown",
   "metadata": {},
   "source": [
    "![image](image/Dataset4.png)"
   ]
  },
  {
   "cell_type": "markdown",
   "metadata": {},
   "source": [
    "#### - 모의고사 4회 학습, 1회 검증(학습진행x, weight 갱신x), 작년 문제로 test 진행 후 최고의 모델 실전 투입\n",
    "#### - 장점 1) 학습 방법을 계속 바꾸어보며 최적의 학습법을 찾을 수 있음 -> 하이퍼파라미터 튜닝\n",
    "#### - 장점 2) 반복학습의 횟수를 결정할 수 있음 -> 오버피팅, 언더피팅 파악 가능"
   ]
  },
  {
   "cell_type": "code",
   "execution_count": null,
   "metadata": {},
   "outputs": [],
   "source": []
  }
 ],
 "metadata": {
  "kernelspec": {
   "display_name": "Python 3",
   "language": "python",
   "name": "python3"
  },
  "language_info": {
   "codemirror_mode": {
    "name": "ipython",
    "version": 3
   },
   "file_extension": ".py",
   "mimetype": "text/x-python",
   "name": "python",
   "nbconvert_exporter": "python",
   "pygments_lexer": "ipython3",
   "version": "3.7.9"
  }
 },
 "nbformat": 4,
 "nbformat_minor": 4
}
