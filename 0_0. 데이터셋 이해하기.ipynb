{
 "cells": [
  {
   "cell_type": "markdown",
   "metadata": {},
   "source": [
    "# 학교 모의고사에 비교한 데이터 셋"
   ]
  },
  {
   "cell_type": "markdown",
   "metadata": {},
   "source": [
    "## 1. 훈련셋, 검증셋, 시험셋"
   ]
  },
  {
   "cell_type": "markdown",
   "metadata": {},
   "source": [
    "![image](image/dataset1.png)"
   ]
  },
  {
   "cell_type": "markdown",
   "metadata": {},
   "source": [
    "#### - 모의고사 5회분 : 훈련셋\n",
    "#### - 작년 수능 문제  : 시험셋\n",
    "#### - 각각의 문제       : 샘플, 혹은 데이터   ( 각 모의고사가 100문제며, 1회분 푼다 가정시, 배치사이즈는 100)\n",
    "#### - 학생 3명            : 모델 3개\n",
    "#### - 올해 수능 문제  : 실제 데이터 (아직 보지못한 데이터)\n",
    "#### - 반복해서 푸는 횟수 : epochs "
   ]
  },
  {
   "cell_type": "markdown",
   "metadata": {},
   "source": [
    "### 1) 학습방법 1"
   ]
  },
  {
   "cell_type": "markdown",
   "metadata": {},
   "source": [
    "![image](image/Dataset2.png)"
   ]
  },
  {
   "cell_type": "markdown",
   "metadata": {},
   "source": [
    "#### - 모든 데이터를 훈련셋으로 활용하고 실제 문제를 시험셋으로 활용하는 경우\n",
    "#### - 모델 검증 및 테스트 없이 훈련만 진행한 모델을 실무에 투입하는 꼴"
   ]
  },
  {
   "cell_type": "markdown",
   "metadata": {},
   "source": [
    "### 2) 학습방법 2"
   ]
  },
  {
   "cell_type": "markdown",
   "metadata": {},
   "source": [
    "![image](image/Dataset3.png)"
   ]
  },
  {
   "cell_type": "markdown",
   "metadata": {},
   "source": [
    "#### - 모의고사 5회분을 훈련셋으로 이용하고 작년 수능 문제를 시험셋으로 활용하여, 올해 수능 문제에는 최고의 모델 활용\n",
    "#### - 5개의 훈련셋을 이용하여 학습, 하나의 테스트 셋으로 테스트 진행 이후, 정확도 높은 모델을 실무에 투입"
   ]
  },
  {
   "cell_type": "markdown",
   "metadata": {},
   "source": [
    "### 3) 학습방법 3"
   ]
  },
  {
   "cell_type": "markdown",
   "metadata": {},
   "source": [
    "![image](image/Dataset4.png)"
   ]
  },
  {
   "cell_type": "markdown",
   "metadata": {},
   "source": [
    "#### - 모의고사 4회 학습, 1회 검증(학습진행x, weight 갱신x), 작년 문제로 test 진행 후 최고의 모델 실전 투입\n",
    "#### - 장점 1) 학습 방법을 계속 바꾸어보며 최적의 학습법을 찾을 수 있음 -> 하이퍼파라미터 튜닝\n",
    "#### - 장점 2) 반복학습의 횟수를 결정할 수 있음 -> 오버피팅, 언더피팅 파악 가능"
   ]
  },
  {
   "cell_type": "markdown",
   "metadata": {},
   "source": [
    "### 4) 학습방법 4"
   ]
  },
  {
   "cell_type": "markdown",
   "metadata": {},
   "source": [
    "![image](image/Dataset5.png)"
   ]
  },
  {
   "cell_type": "markdown",
   "metadata": {},
   "source": [
    "#### - 특수한 경우의 검증셋이 걸렸을 때를 방지하기 위해서 사용하는 교차검증 방법\n",
    "#### ex) 해당 검증셋이 실제 혹은 테스트 셋과 많이 다른경우\n",
    "#### - 모의고사 1회~4회를 학습한 뒤 모의고사 5회로 평가를 수행\n",
    "#### - 학습된 상태를 초기화한 후 다시 모의고사 1, 2, 3, 5회를 학습한 뒤 4회로 검증\n",
    "#### - 학습된 상태를 초기화한 후 다시 모의고사 1, 2, 4, 5회를 학습한 뒤 3회로 검증\n",
    "#### - 학습된 상태를 초기화한 후 다시 모의고사 1, 3, 4, 5회를 학습한 뒤 2회로 검증\n",
    "#### - 학습된 상태를 초기화한 후 다시 모의고사 2, 3, 4, 5회를 학습한 뒤 1회로 검증\n",
    "#### - 다섯번의 검증결과를 평균을 내어 성능을 정의\n",
    "#### - 성능이 낮더라도 분산이 낮은 모델이 안정적인 결과를 냄으로 해당 모델 선택\n",
    "#### - 데이터 수가 많지 않을 때 주로 사용"
   ]
  },
  {
   "cell_type": "markdown",
   "metadata": {},
   "source": [
    "## 2. 배치사이즈와 에포크"
   ]
  },
  {
   "cell_type": "markdown",
   "metadata": {},
   "source": [
    "![image](image/Dataset6.png)"
   ]
  },
  {
   "cell_type": "code",
   "execution_count": null,
   "metadata": {},
   "outputs": [],
   "source": [
    "model.fit(x, y, batch_size = 32, epochs = 10)"
   ]
  },
  {
   "cell_type": "markdown",
   "metadata": {},
   "source": [
    "#### - x : 입력데이터 ( 100개의 문제들 )\n",
    "#### - y : 라벨 ( 100개 문제에 대한 답 )\n",
    "#### - batch_size : 몇 개의 샘플(데이터)를 학습 후 가중치를 갱신할 것인지 지정\n",
    "#### - epochs : 학습 반복 횟수"
   ]
  },
  {
   "cell_type": "markdown",
   "metadata": {},
   "source": [
    "## 1) batch_size"
   ]
  },
  {
   "cell_type": "markdown",
   "metadata": {},
   "source": [
    "#### - 몇개의 문항을 풀고 해답을 맞추는 지 의미\n",
    "#### - 문제를 푼 뒤 해답과 맞춰볼때 학습이 진행되고, 이러한 한 배치가 끝난 뒤 역전파 알고리즘을 통하여 가중치가 갱신된다."
   ]
  },
  {
   "cell_type": "markdown",
   "metadata": {},
   "source": [
    "### (1) 배치사이즈가 100인 경우"
   ]
  },
  {
   "cell_type": "markdown",
   "metadata": {},
   "source": [
    "![afds](image/Dataset7.png)"
   ]
  },
  {
   "cell_type": "markdown",
   "metadata": {},
   "source": [
    "#### - 100개의 데이터를 모두 푼 뒤 가중치 갱신이 진행 됨\n",
    "#### - 학습이 빠르게 진행되지만 기억용량이 커야함"
   ]
  },
  {
   "cell_type": "markdown",
   "metadata": {},
   "source": [
    "### (2) 배치사이즈가 10인 경우"
   ]
  },
  {
   "cell_type": "markdown",
   "metadata": {},
   "source": [
    "![daf](image/Dataset8.png)"
   ]
  },
  {
   "cell_type": "markdown",
   "metadata": {},
   "source": [
    "#### - 10개의 데이터를 보고 가중치 갱신을 진행 -> 가중치 갱신 총 10회 진행"
   ]
  },
  {
   "cell_type": "markdown",
   "metadata": {},
   "source": [
    "### (3) 배치사이즈가 1인 경우"
   ]
  },
  {
   "cell_type": "markdown",
   "metadata": {},
   "source": [
    "![dfs](image/Dataset9.png)"
   ]
  },
  {
   "cell_type": "markdown",
   "metadata": {},
   "source": [
    "#### - 한개의 데이터를 보고 매번 가중치 갱신을 진행 -> 가중치 갱신 총 100회 진행\n",
    "#### - 학습시간이 오래걸림"
   ]
  },
  {
   "cell_type": "markdown",
   "metadata": {},
   "source": [
    "## 2) epchos(에포크)"
   ]
  },
  {
   "cell_type": "markdown",
   "metadata": {},
   "source": [
    "### - 전체 데이터를 몇번이나 반복하여 학습을 할까를 결정\n",
    "### - 훈련이 진행될 수 록 정확도가 높아지지만 오버피팅이 될 확률이 있다."
   ]
  },
  {
   "cell_type": "code",
   "execution_count": null,
   "metadata": {},
   "outputs": [],
   "source": []
  }
 ],
 "metadata": {
  "kernelspec": {
   "display_name": "Python 3",
   "language": "python",
   "name": "python3"
  },
  "language_info": {
   "codemirror_mode": {
    "name": "ipython",
    "version": 3
   },
   "file_extension": ".py",
   "mimetype": "text/x-python",
   "name": "python",
   "nbconvert_exporter": "python",
   "pygments_lexer": "ipython3",
   "version": "3.7.9"
  }
 },
 "nbformat": 4,
 "nbformat_minor": 4
}
