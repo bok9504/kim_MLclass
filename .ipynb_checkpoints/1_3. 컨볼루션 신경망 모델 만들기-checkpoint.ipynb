{
 "cells": [
  {
   "cell_type": "code",
   "execution_count": 20,
   "metadata": {},
   "outputs": [],
   "source": [
    "import numpy as np\n",
    "from keras.models import Sequential\n",
    "from keras.layers import Dense\n",
    "from keras.layers import Flatten\n",
    "from keras.layers import Conv2D\n",
    "from keras.layers import MaxPooling2D\n",
    "from keras.preprocessing.image import ImageDataGenerator\n",
    "\n",
    "np.random.seed(3)"
   ]
  },
  {
   "cell_type": "code",
   "execution_count": 21,
   "metadata": {},
   "outputs": [
    {
     "name": "stdout",
     "output_type": "stream",
     "text": [
      "Found 45 images belonging to 3 classes.\n",
      "Found 15 images belonging to 3 classes.\n",
      "Found 15 images belonging to 3 classes.\n"
     ]
    }
   ],
   "source": [
    "train_datagen = ImageDataGenerator(rescale=1./255)\n",
    "train_generator = train_datagen.flow_from_directory(\n",
    "                    'D:/2. 보경/0.딥러닝공부/0.김태영 케라스 강좌/0.code/handwriting_shape/train',\n",
    "                    target_size=(24,24),\n",
    "                    batch_size=3,\n",
    "                    class_mode='categorical')\n",
    "\n",
    "test_datagen = ImageDataGenerator(rescale=1./255)\n",
    "test_generator = test_datagen.flow_from_directory(\n",
    "                    'D:/2. 보경/0.딥러닝공부/0.김태영 케라스 강좌/0.code/handwriting_shape/test',\n",
    "                    target_size=(24,24),\n",
    "                    batch_size=3,\n",
    "                    class_mode='categorical')\n",
    "\n",
    "verification_datagen = ImageDataGenerator(rescale=1./255)\n",
    "verification_generator = verification_datagen.flow_from_directory(\n",
    "                    'D:/2. 보경/0.딥러닝공부/0.김태영 케라스 강좌/0.code/handwriting_shape/verification',\n",
    "                    target_size=(24,24),\n",
    "                    batch_size=3,\n",
    "                    class_mode='categorical')"
   ]
  },
  {
   "cell_type": "code",
   "execution_count": 22,
   "metadata": {},
   "outputs": [],
   "source": [
    "model = Sequential()\n",
    "model.add(Conv2D(32, kernel_size=(3,3), activation='relu', input_shape=(24,24,3)))\n",
    "model.add(Conv2D(64,(3, 3), activation='relu'))\n",
    "model.add(MaxPooling2D(pool_size=(2,2)))\n",
    "model.add(Flatten())\n",
    "model.add(Dense(128, activation='relu'))\n",
    "model.add(Dense(3, activation='softmax'))"
   ]
  },
  {
   "cell_type": "code",
   "execution_count": 23,
   "metadata": {
    "scrolled": true
   },
   "outputs": [
    {
     "data": {
      "image/svg+xml": [
       "<svg height=\"737pt\" viewBox=\"0.00 0.00 368.00 553.00\" width=\"491pt\" xmlns=\"http://www.w3.org/2000/svg\" xmlns:xlink=\"http://www.w3.org/1999/xlink\">\n",
       "<g class=\"graph\" id=\"graph0\" transform=\"scale(1.33333 1.33333) rotate(0) translate(4 549)\">\n",
       "<title>G</title>\n",
       "<polygon fill=\"white\" points=\"-4,4 -4,-549 364,-549 364,4 -4,4\" stroke=\"none\"/>\n",
       "<!-- 2358387989064 -->\n",
       "<g class=\"node\" id=\"node1\"><title>2358387989064</title>\n",
       "<polygon fill=\"none\" points=\"15.5,-498.5 15.5,-544.5 344.5,-544.5 344.5,-498.5 15.5,-498.5\" stroke=\"black\"/>\n",
       "<text font-family=\"Times New Roman,serif\" font-size=\"14.00\" text-anchor=\"middle\" x=\"103.5\" y=\"-517.8\">conv2d_4_input: InputLayer</text>\n",
       "<polyline fill=\"none\" points=\"191.5,-498.5 191.5,-544.5 \" stroke=\"black\"/>\n",
       "<text font-family=\"Times New Roman,serif\" font-size=\"14.00\" text-anchor=\"middle\" x=\"219.5\" y=\"-529.3\">input:</text>\n",
       "<polyline fill=\"none\" points=\"191.5,-521.5 247.5,-521.5 \" stroke=\"black\"/>\n",
       "<text font-family=\"Times New Roman,serif\" font-size=\"14.00\" text-anchor=\"middle\" x=\"219.5\" y=\"-506.3\">output:</text>\n",
       "<polyline fill=\"none\" points=\"247.5,-498.5 247.5,-544.5 \" stroke=\"black\"/>\n",
       "<text font-family=\"Times New Roman,serif\" font-size=\"14.00\" text-anchor=\"middle\" x=\"296\" y=\"-529.3\">[(?, 24, 24, 3)]</text>\n",
       "<polyline fill=\"none\" points=\"247.5,-521.5 344.5,-521.5 \" stroke=\"black\"/>\n",
       "<text font-family=\"Times New Roman,serif\" font-size=\"14.00\" text-anchor=\"middle\" x=\"296\" y=\"-506.3\">[(?, 24, 24, 3)]</text>\n",
       "</g>\n",
       "<!-- 2358387989640 -->\n",
       "<g class=\"node\" id=\"node2\"><title>2358387989640</title>\n",
       "<polygon fill=\"none\" points=\"41,-415.5 41,-461.5 319,-461.5 319,-415.5 41,-415.5\" stroke=\"black\"/>\n",
       "<text font-family=\"Times New Roman,serif\" font-size=\"14.00\" text-anchor=\"middle\" x=\"104.5\" y=\"-434.8\">conv2d_4: Conv2D</text>\n",
       "<polyline fill=\"none\" points=\"168,-415.5 168,-461.5 \" stroke=\"black\"/>\n",
       "<text font-family=\"Times New Roman,serif\" font-size=\"14.00\" text-anchor=\"middle\" x=\"196\" y=\"-446.3\">input:</text>\n",
       "<polyline fill=\"none\" points=\"168,-438.5 224,-438.5 \" stroke=\"black\"/>\n",
       "<text font-family=\"Times New Roman,serif\" font-size=\"14.00\" text-anchor=\"middle\" x=\"196\" y=\"-423.3\">output:</text>\n",
       "<polyline fill=\"none\" points=\"224,-415.5 224,-461.5 \" stroke=\"black\"/>\n",
       "<text font-family=\"Times New Roman,serif\" font-size=\"14.00\" text-anchor=\"middle\" x=\"271.5\" y=\"-446.3\">(?, 24, 24, 3)</text>\n",
       "<polyline fill=\"none\" points=\"224,-438.5 319,-438.5 \" stroke=\"black\"/>\n",
       "<text font-family=\"Times New Roman,serif\" font-size=\"14.00\" text-anchor=\"middle\" x=\"271.5\" y=\"-423.3\">(?, 22, 22, 32)</text>\n",
       "</g>\n",
       "<!-- 2358387989064&#45;&gt;2358387989640 -->\n",
       "<g class=\"edge\" id=\"edge1\"><title>2358387989064-&gt;2358387989640</title>\n",
       "<path d=\"M180,-498.366C180,-490.152 180,-480.658 180,-471.725\" fill=\"none\" stroke=\"black\"/>\n",
       "<polygon fill=\"black\" points=\"183.5,-471.607 180,-461.607 176.5,-471.607 183.5,-471.607\" stroke=\"black\"/>\n",
       "</g>\n",
       "<!-- 2353635443400 -->\n",
       "<g class=\"node\" id=\"node3\"><title>2353635443400</title>\n",
       "<polygon fill=\"none\" points=\"41,-332.5 41,-378.5 319,-378.5 319,-332.5 41,-332.5\" stroke=\"black\"/>\n",
       "<text font-family=\"Times New Roman,serif\" font-size=\"14.00\" text-anchor=\"middle\" x=\"104.5\" y=\"-351.8\">conv2d_5: Conv2D</text>\n",
       "<polyline fill=\"none\" points=\"168,-332.5 168,-378.5 \" stroke=\"black\"/>\n",
       "<text font-family=\"Times New Roman,serif\" font-size=\"14.00\" text-anchor=\"middle\" x=\"196\" y=\"-363.3\">input:</text>\n",
       "<polyline fill=\"none\" points=\"168,-355.5 224,-355.5 \" stroke=\"black\"/>\n",
       "<text font-family=\"Times New Roman,serif\" font-size=\"14.00\" text-anchor=\"middle\" x=\"196\" y=\"-340.3\">output:</text>\n",
       "<polyline fill=\"none\" points=\"224,-332.5 224,-378.5 \" stroke=\"black\"/>\n",
       "<text font-family=\"Times New Roman,serif\" font-size=\"14.00\" text-anchor=\"middle\" x=\"271.5\" y=\"-363.3\">(?, 22, 22, 32)</text>\n",
       "<polyline fill=\"none\" points=\"224,-355.5 319,-355.5 \" stroke=\"black\"/>\n",
       "<text font-family=\"Times New Roman,serif\" font-size=\"14.00\" text-anchor=\"middle\" x=\"271.5\" y=\"-340.3\">(?, 20, 20, 64)</text>\n",
       "</g>\n",
       "<!-- 2358387989640&#45;&gt;2353635443400 -->\n",
       "<g class=\"edge\" id=\"edge2\"><title>2358387989640-&gt;2353635443400</title>\n",
       "<path d=\"M180,-415.366C180,-407.152 180,-397.658 180,-388.725\" fill=\"none\" stroke=\"black\"/>\n",
       "<polygon fill=\"black\" points=\"183.5,-388.607 180,-378.607 176.5,-388.607 183.5,-388.607\" stroke=\"black\"/>\n",
       "</g>\n",
       "<!-- 2353625898568 -->\n",
       "<g class=\"node\" id=\"node4\"><title>2353625898568</title>\n",
       "<polygon fill=\"none\" points=\"0,-249.5 0,-295.5 360,-295.5 360,-249.5 0,-249.5\" stroke=\"black\"/>\n",
       "<text font-family=\"Times New Roman,serif\" font-size=\"14.00\" text-anchor=\"middle\" x=\"104.5\" y=\"-268.8\">max_pooling2d_2: MaxPooling2D</text>\n",
       "<polyline fill=\"none\" points=\"209,-249.5 209,-295.5 \" stroke=\"black\"/>\n",
       "<text font-family=\"Times New Roman,serif\" font-size=\"14.00\" text-anchor=\"middle\" x=\"237\" y=\"-280.3\">input:</text>\n",
       "<polyline fill=\"none\" points=\"209,-272.5 265,-272.5 \" stroke=\"black\"/>\n",
       "<text font-family=\"Times New Roman,serif\" font-size=\"14.00\" text-anchor=\"middle\" x=\"237\" y=\"-257.3\">output:</text>\n",
       "<polyline fill=\"none\" points=\"265,-249.5 265,-295.5 \" stroke=\"black\"/>\n",
       "<text font-family=\"Times New Roman,serif\" font-size=\"14.00\" text-anchor=\"middle\" x=\"312.5\" y=\"-280.3\">(?, 20, 20, 64)</text>\n",
       "<polyline fill=\"none\" points=\"265,-272.5 360,-272.5 \" stroke=\"black\"/>\n",
       "<text font-family=\"Times New Roman,serif\" font-size=\"14.00\" text-anchor=\"middle\" x=\"312.5\" y=\"-257.3\">(?, 10, 10, 64)</text>\n",
       "</g>\n",
       "<!-- 2353635443400&#45;&gt;2353625898568 -->\n",
       "<g class=\"edge\" id=\"edge3\"><title>2353635443400-&gt;2353625898568</title>\n",
       "<path d=\"M180,-332.366C180,-324.152 180,-314.658 180,-305.725\" fill=\"none\" stroke=\"black\"/>\n",
       "<polygon fill=\"black\" points=\"183.5,-305.607 180,-295.607 176.5,-305.607 183.5,-305.607\" stroke=\"black\"/>\n",
       "</g>\n",
       "<!-- 2358388087496 -->\n",
       "<g class=\"node\" id=\"node5\"><title>2358388087496</title>\n",
       "<polygon fill=\"none\" points=\"50,-166.5 50,-212.5 310,-212.5 310,-166.5 50,-166.5\" stroke=\"black\"/>\n",
       "<text font-family=\"Times New Roman,serif\" font-size=\"14.00\" text-anchor=\"middle\" x=\"104.5\" y=\"-185.8\">flatten_2: Flatten</text>\n",
       "<polyline fill=\"none\" points=\"159,-166.5 159,-212.5 \" stroke=\"black\"/>\n",
       "<text font-family=\"Times New Roman,serif\" font-size=\"14.00\" text-anchor=\"middle\" x=\"187\" y=\"-197.3\">input:</text>\n",
       "<polyline fill=\"none\" points=\"159,-189.5 215,-189.5 \" stroke=\"black\"/>\n",
       "<text font-family=\"Times New Roman,serif\" font-size=\"14.00\" text-anchor=\"middle\" x=\"187\" y=\"-174.3\">output:</text>\n",
       "<polyline fill=\"none\" points=\"215,-166.5 215,-212.5 \" stroke=\"black\"/>\n",
       "<text font-family=\"Times New Roman,serif\" font-size=\"14.00\" text-anchor=\"middle\" x=\"262.5\" y=\"-197.3\">(?, 10, 10, 64)</text>\n",
       "<polyline fill=\"none\" points=\"215,-189.5 310,-189.5 \" stroke=\"black\"/>\n",
       "<text font-family=\"Times New Roman,serif\" font-size=\"14.00\" text-anchor=\"middle\" x=\"262.5\" y=\"-174.3\">(?, 6400)</text>\n",
       "</g>\n",
       "<!-- 2353625898568&#45;&gt;2358388087496 -->\n",
       "<g class=\"edge\" id=\"edge4\"><title>2353625898568-&gt;2358388087496</title>\n",
       "<path d=\"M180,-249.366C180,-241.152 180,-231.658 180,-222.725\" fill=\"none\" stroke=\"black\"/>\n",
       "<polygon fill=\"black\" points=\"183.5,-222.607 180,-212.607 176.5,-222.607 183.5,-222.607\" stroke=\"black\"/>\n",
       "</g>\n",
       "<!-- 2358388086920 -->\n",
       "<g class=\"node\" id=\"node6\"><title>2358388086920</title>\n",
       "<polygon fill=\"none\" points=\"67,-83.5 67,-129.5 293,-129.5 293,-83.5 67,-83.5\" stroke=\"black\"/>\n",
       "<text font-family=\"Times New Roman,serif\" font-size=\"14.00\" text-anchor=\"middle\" x=\"119\" y=\"-102.8\">dense_4: Dense</text>\n",
       "<polyline fill=\"none\" points=\"171,-83.5 171,-129.5 \" stroke=\"black\"/>\n",
       "<text font-family=\"Times New Roman,serif\" font-size=\"14.00\" text-anchor=\"middle\" x=\"199\" y=\"-114.3\">input:</text>\n",
       "<polyline fill=\"none\" points=\"171,-106.5 227,-106.5 \" stroke=\"black\"/>\n",
       "<text font-family=\"Times New Roman,serif\" font-size=\"14.00\" text-anchor=\"middle\" x=\"199\" y=\"-91.3\">output:</text>\n",
       "<polyline fill=\"none\" points=\"227,-83.5 227,-129.5 \" stroke=\"black\"/>\n",
       "<text font-family=\"Times New Roman,serif\" font-size=\"14.00\" text-anchor=\"middle\" x=\"260\" y=\"-114.3\">(?, 6400)</text>\n",
       "<polyline fill=\"none\" points=\"227,-106.5 293,-106.5 \" stroke=\"black\"/>\n",
       "<text font-family=\"Times New Roman,serif\" font-size=\"14.00\" text-anchor=\"middle\" x=\"260\" y=\"-91.3\">(?, 128)</text>\n",
       "</g>\n",
       "<!-- 2358388087496&#45;&gt;2358388086920 -->\n",
       "<g class=\"edge\" id=\"edge5\"><title>2358388087496-&gt;2358388086920</title>\n",
       "<path d=\"M180,-166.366C180,-158.152 180,-148.658 180,-139.725\" fill=\"none\" stroke=\"black\"/>\n",
       "<polygon fill=\"black\" points=\"183.5,-139.607 180,-129.607 176.5,-139.607 183.5,-139.607\" stroke=\"black\"/>\n",
       "</g>\n",
       "<!-- 2358388137800 -->\n",
       "<g class=\"node\" id=\"node7\"><title>2358388137800</title>\n",
       "<polygon fill=\"none\" points=\"70.5,-0.5 70.5,-46.5 289.5,-46.5 289.5,-0.5 70.5,-0.5\" stroke=\"black\"/>\n",
       "<text font-family=\"Times New Roman,serif\" font-size=\"14.00\" text-anchor=\"middle\" x=\"122.5\" y=\"-19.8\">dense_5: Dense</text>\n",
       "<polyline fill=\"none\" points=\"174.5,-0.5 174.5,-46.5 \" stroke=\"black\"/>\n",
       "<text font-family=\"Times New Roman,serif\" font-size=\"14.00\" text-anchor=\"middle\" x=\"202.5\" y=\"-31.3\">input:</text>\n",
       "<polyline fill=\"none\" points=\"174.5,-23.5 230.5,-23.5 \" stroke=\"black\"/>\n",
       "<text font-family=\"Times New Roman,serif\" font-size=\"14.00\" text-anchor=\"middle\" x=\"202.5\" y=\"-8.3\">output:</text>\n",
       "<polyline fill=\"none\" points=\"230.5,-0.5 230.5,-46.5 \" stroke=\"black\"/>\n",
       "<text font-family=\"Times New Roman,serif\" font-size=\"14.00\" text-anchor=\"middle\" x=\"260\" y=\"-31.3\">(?, 128)</text>\n",
       "<polyline fill=\"none\" points=\"230.5,-23.5 289.5,-23.5 \" stroke=\"black\"/>\n",
       "<text font-family=\"Times New Roman,serif\" font-size=\"14.00\" text-anchor=\"middle\" x=\"260\" y=\"-8.3\">(?, 3)</text>\n",
       "</g>\n",
       "<!-- 2358388086920&#45;&gt;2358388137800 -->\n",
       "<g class=\"edge\" id=\"edge6\"><title>2358388086920-&gt;2358388137800</title>\n",
       "<path d=\"M180,-83.3664C180,-75.1516 180,-65.6579 180,-56.7252\" fill=\"none\" stroke=\"black\"/>\n",
       "<polygon fill=\"black\" points=\"183.5,-56.6068 180,-46.6068 176.5,-56.6069 183.5,-56.6068\" stroke=\"black\"/>\n",
       "</g>\n",
       "</g>\n",
       "</svg>"
      ],
      "text/plain": [
       "<IPython.core.display.SVG object>"
      ]
     },
     "execution_count": 23,
     "metadata": {},
     "output_type": "execute_result"
    }
   ],
   "source": [
    "from IPython.display import SVG\n",
    "from keras.utils.vis_utils import model_to_dot\n",
    "\n",
    "%matplotlib inline\n",
    "\n",
    "SVG(model_to_dot(model, show_shapes=True).create(prog='dot', format='svg'))"
   ]
  },
  {
   "cell_type": "code",
   "execution_count": 24,
   "metadata": {},
   "outputs": [],
   "source": [
    "model.compile(loss='categorical_crossentropy', optimizer='adam', metrics=['accuracy'])"
   ]
  },
  {
   "cell_type": "code",
   "execution_count": 25,
   "metadata": {
    "scrolled": true
   },
   "outputs": [
    {
     "name": "stdout",
     "output_type": "stream",
     "text": [
      "Epoch 1/50\n",
      "15/15 [==============================] - 0s 12ms/step - loss: 0.9896 - accuracy: 0.6222 - val_loss: 0.4948 - val_accuracy: 1.0000\n",
      "Epoch 2/50\n",
      "15/15 [==============================] - 0s 5ms/step - loss: 0.1672 - accuracy: 1.0000 - val_loss: 0.2254 - val_accuracy: 0.9333\n",
      "Epoch 3/50\n",
      "15/15 [==============================] - 0s 5ms/step - loss: 0.0259 - accuracy: 1.0000 - val_loss: 0.0524 - val_accuracy: 1.0000\n",
      "Epoch 4/50\n",
      "15/15 [==============================] - 0s 5ms/step - loss: 0.0597 - accuracy: 0.9556 - val_loss: 0.0461 - val_accuracy: 1.0000\n",
      "Epoch 5/50\n",
      "15/15 [==============================] - 0s 5ms/step - loss: 0.0076 - accuracy: 1.0000 - val_loss: 0.0313 - val_accuracy: 1.0000\n",
      "Epoch 6/50\n",
      "15/15 [==============================] - 0s 5ms/step - loss: 0.0013 - accuracy: 1.0000 - val_loss: 0.0224 - val_accuracy: 1.0000\n",
      "Epoch 7/50\n",
      "15/15 [==============================] - 0s 5ms/step - loss: 3.3240e-04 - accuracy: 1.0000 - val_loss: 0.0310 - val_accuracy: 1.0000\n",
      "Epoch 8/50\n",
      "15/15 [==============================] - 0s 4ms/step - loss: 2.8915e-04 - accuracy: 1.0000 - val_loss: 0.0294 - val_accuracy: 1.0000\n",
      "Epoch 9/50\n",
      "15/15 [==============================] - 0s 5ms/step - loss: 1.7174e-04 - accuracy: 1.0000 - val_loss: 0.0183 - val_accuracy: 1.0000\n",
      "Epoch 10/50\n",
      "15/15 [==============================] - 0s 5ms/step - loss: 1.0437e-04 - accuracy: 1.0000 - val_loss: 0.0239 - val_accuracy: 1.0000\n",
      "Epoch 11/50\n",
      "15/15 [==============================] - 0s 5ms/step - loss: 1.0054e-04 - accuracy: 1.0000 - val_loss: 0.0193 - val_accuracy: 1.0000\n",
      "Epoch 12/50\n",
      "15/15 [==============================] - 0s 4ms/step - loss: 6.0667e-05 - accuracy: 1.0000 - val_loss: 0.0159 - val_accuracy: 1.0000\n",
      "Epoch 13/50\n",
      "15/15 [==============================] - 0s 5ms/step - loss: 4.8181e-05 - accuracy: 1.0000 - val_loss: 0.0165 - val_accuracy: 1.0000\n",
      "Epoch 14/50\n",
      "15/15 [==============================] - 0s 4ms/step - loss: 3.5626e-05 - accuracy: 1.0000 - val_loss: 0.0163 - val_accuracy: 1.0000\n",
      "Epoch 15/50\n",
      "15/15 [==============================] - 0s 4ms/step - loss: 2.7923e-05 - accuracy: 1.0000 - val_loss: 0.0189 - val_accuracy: 1.0000\n",
      "Epoch 16/50\n",
      "15/15 [==============================] - 0s 4ms/step - loss: 2.3012e-05 - accuracy: 1.0000 - val_loss: 0.0149 - val_accuracy: 1.0000\n",
      "Epoch 17/50\n",
      "15/15 [==============================] - 0s 5ms/step - loss: 1.7237e-05 - accuracy: 1.0000 - val_loss: 0.0166 - val_accuracy: 1.0000\n",
      "Epoch 18/50\n",
      "15/15 [==============================] - 0s 4ms/step - loss: 1.4660e-05 - accuracy: 1.0000 - val_loss: 0.0185 - val_accuracy: 1.0000\n",
      "Epoch 19/50\n",
      "15/15 [==============================] - 0s 5ms/step - loss: 1.1987e-05 - accuracy: 1.0000 - val_loss: 0.0161 - val_accuracy: 1.0000\n",
      "Epoch 20/50\n",
      "15/15 [==============================] - 0s 4ms/step - loss: 1.0670e-05 - accuracy: 1.0000 - val_loss: 0.0145 - val_accuracy: 1.0000\n",
      "Epoch 21/50\n",
      "15/15 [==============================] - 0s 4ms/step - loss: 8.8293e-06 - accuracy: 1.0000 - val_loss: 0.0159 - val_accuracy: 1.0000\n",
      "Epoch 22/50\n",
      "15/15 [==============================] - 0s 5ms/step - loss: 7.6743e-06 - accuracy: 1.0000 - val_loss: 0.0162 - val_accuracy: 1.0000\n",
      "Epoch 23/50\n",
      "15/15 [==============================] - 0s 4ms/step - loss: 6.9352e-06 - accuracy: 1.0000 - val_loss: 0.0144 - val_accuracy: 1.0000\n",
      "Epoch 24/50\n",
      "15/15 [==============================] - 0s 4ms/step - loss: 6.0478e-06 - accuracy: 1.0000 - val_loss: 0.0148 - val_accuracy: 1.0000\n",
      "Epoch 25/50\n",
      "15/15 [==============================] - 0s 5ms/step - loss: 5.3326e-06 - accuracy: 1.0000 - val_loss: 0.0149 - val_accuracy: 1.0000\n",
      "Epoch 26/50\n",
      "15/15 [==============================] - 0s 4ms/step - loss: 4.7657e-06 - accuracy: 1.0000 - val_loss: 0.0143 - val_accuracy: 1.0000\n",
      "Epoch 27/50\n",
      "15/15 [==============================] - 0s 4ms/step - loss: 4.3180e-06 - accuracy: 1.0000 - val_loss: 0.0133 - val_accuracy: 1.0000\n",
      "Epoch 28/50\n",
      "15/15 [==============================] - 0s 4ms/step - loss: 3.9206e-06 - accuracy: 1.0000 - val_loss: 0.0133 - val_accuracy: 1.0000\n",
      "Epoch 29/50\n",
      "15/15 [==============================] - 0s 4ms/step - loss: 3.6584e-06 - accuracy: 1.0000 - val_loss: 0.0128 - val_accuracy: 1.0000\n",
      "Epoch 30/50\n",
      "15/15 [==============================] - 0s 4ms/step - loss: 3.2610e-06 - accuracy: 1.0000 - val_loss: 0.0131 - val_accuracy: 1.0000\n",
      "Epoch 31/50\n",
      "15/15 [==============================] - 0s 4ms/step - loss: 2.9882e-06 - accuracy: 1.0000 - val_loss: 0.0122 - val_accuracy: 1.0000\n",
      "Epoch 32/50\n",
      "15/15 [==============================] - 0s 5ms/step - loss: 2.8001e-06 - accuracy: 1.0000 - val_loss: 0.0120 - val_accuracy: 1.0000\n",
      "Epoch 33/50\n",
      "15/15 [==============================] - 0s 4ms/step - loss: 2.5537e-06 - accuracy: 1.0000 - val_loss: 0.0125 - val_accuracy: 1.0000\n",
      "Epoch 34/50\n",
      "15/15 [==============================] - 0s 5ms/step - loss: 2.4663e-06 - accuracy: 1.0000 - val_loss: 0.0109 - val_accuracy: 1.0000\n",
      "Epoch 35/50\n",
      "15/15 [==============================] - 0s 5ms/step - loss: 2.1987e-06 - accuracy: 1.0000 - val_loss: 0.0116 - val_accuracy: 1.0000\n",
      "Epoch 36/50\n",
      "15/15 [==============================] - 0s 5ms/step - loss: 2.0371e-06 - accuracy: 1.0000 - val_loss: 0.0110 - val_accuracy: 1.0000\n",
      "Epoch 37/50\n",
      "15/15 [==============================] - 0s 5ms/step - loss: 1.9736e-06 - accuracy: 1.0000 - val_loss: 0.0116 - val_accuracy: 1.0000\n",
      "Epoch 38/50\n",
      "15/15 [==============================] - 0s 5ms/step - loss: 1.7881e-06 - accuracy: 1.0000 - val_loss: 0.0106 - val_accuracy: 1.0000\n",
      "Epoch 39/50\n",
      "15/15 [==============================] - 0s 4ms/step - loss: 1.6689e-06 - accuracy: 1.0000 - val_loss: 0.0104 - val_accuracy: 1.0000\n",
      "Epoch 40/50\n",
      "15/15 [==============================] - 0s 5ms/step - loss: 1.5842e-06 - accuracy: 1.0000 - val_loss: 0.0101 - val_accuracy: 1.0000\n",
      "Epoch 41/50\n",
      "15/15 [==============================] - 0s 5ms/step - loss: 1.5232e-06 - accuracy: 1.0000 - val_loss: 0.0096 - val_accuracy: 1.0000\n",
      "Epoch 42/50\n",
      "15/15 [==============================] - 0s 5ms/step - loss: 1.3934e-06 - accuracy: 1.0000 - val_loss: 0.0102 - val_accuracy: 1.0000\n",
      "Epoch 43/50\n",
      "15/15 [==============================] - 0s 5ms/step - loss: 1.3192e-06 - accuracy: 1.0000 - val_loss: 0.0098 - val_accuracy: 1.0000\n",
      "Epoch 44/50\n",
      "15/15 [==============================] - 0s 5ms/step - loss: 1.2345e-06 - accuracy: 1.0000 - val_loss: 0.0094 - val_accuracy: 1.0000\n",
      "Epoch 45/50\n",
      "15/15 [==============================] - 0s 5ms/step - loss: 1.1682e-06 - accuracy: 1.0000 - val_loss: 0.0093 - val_accuracy: 1.0000\n",
      "Epoch 46/50\n",
      "15/15 [==============================] - 0s 4ms/step - loss: 1.1153e-06 - accuracy: 1.0000 - val_loss: 0.0092 - val_accuracy: 1.0000\n",
      "Epoch 47/50\n",
      "15/15 [==============================] - 0s 4ms/step - loss: 1.0543e-06 - accuracy: 1.0000 - val_loss: 0.0091 - val_accuracy: 1.0000\n",
      "Epoch 48/50\n",
      "15/15 [==============================] - 0s 5ms/step - loss: 1.0225e-06 - accuracy: 1.0000 - val_loss: 0.0087 - val_accuracy: 1.0000\n",
      "Epoch 49/50\n",
      "15/15 [==============================] - 0s 5ms/step - loss: 9.5367e-07 - accuracy: 1.0000 - val_loss: 0.0087 - val_accuracy: 1.0000\n",
      "Epoch 50/50\n",
      "15/15 [==============================] - 0s 4ms/step - loss: 9.1394e-07 - accuracy: 1.0000 - val_loss: 0.0086 - val_accuracy: 1.0000\n"
     ]
    },
    {
     "data": {
      "text/plain": [
       "<tensorflow.python.keras.callbacks.History at 0x2251b389f88>"
      ]
     },
     "execution_count": 25,
     "metadata": {},
     "output_type": "execute_result"
    }
   ],
   "source": [
    "model.fit_generator(train_generator, steps_per_epoch=15, epochs=50, validation_data=test_generator, validation_steps=5)"
   ]
  },
  {
   "cell_type": "markdown",
   "metadata": {},
   "source": [
    "#### 예제 데이터"
   ]
  },
  {
   "cell_type": "code",
   "execution_count": 26,
   "metadata": {},
   "outputs": [
    {
     "name": "stdout",
     "output_type": "stream",
     "text": [
      "-- Evaluate --\n",
      "accuracy: 100.00%\n"
     ]
    }
   ],
   "source": [
    "print(\"-- Evaluate --\")\n",
    "scores = model.evaluate_generator(test_generator, steps=5)\n",
    "print(\"%s: %.2f%%\" %(model.metrics_names[1], scores[1]*100))"
   ]
  },
  {
   "cell_type": "code",
   "execution_count": 27,
   "metadata": {},
   "outputs": [
    {
     "name": "stdout",
     "output_type": "stream",
     "text": [
      "-- Predict --\n",
      "{'circle': 0, 'rectangle': 1, 'triangle': 2}\n",
      "[[0.000 1.000 0.000]\n",
      " [0.049 0.883 0.069]\n",
      " [0.000 0.001 0.999]\n",
      " [1.000 0.000 0.000]\n",
      " [0.998 0.000 0.002]\n",
      " [0.000 1.000 0.000]\n",
      " [0.000 1.000 0.000]\n",
      " [0.000 0.000 1.000]\n",
      " [0.000 0.000 1.000]\n",
      " [1.000 0.000 0.000]\n",
      " [1.000 0.000 0.000]\n",
      " [0.000 1.000 0.000]\n",
      " [0.000 0.000 1.000]\n",
      " [0.000 0.002 0.998]\n",
      " [1.000 0.000 0.000]]\n"
     ]
    }
   ],
   "source": [
    "print(\"-- Predict --\")\n",
    "output = model.predict_generator(test_generator, steps=5)\n",
    "np.set_printoptions(formatter={'float': lambda x: \"{0:0.3f}\".format(x)})\n",
    "print(test_generator.class_indices)\n",
    "print(output)"
   ]
  },
  {
   "cell_type": "markdown",
   "metadata": {},
   "source": [
    "#### 직접 제작 데이터"
   ]
  },
  {
   "cell_type": "code",
   "execution_count": 28,
   "metadata": {},
   "outputs": [
    {
     "name": "stdout",
     "output_type": "stream",
     "text": [
      "-- Evaluate --\n",
      "accuracy: 33.33%\n"
     ]
    }
   ],
   "source": [
    "print(\"-- Evaluate --\")\n",
    "scores = model.evaluate_generator(verification_generator, steps=5)\n",
    "print(\"%s: %.2f%%\" %(model.metrics_names[1], scores[1]*100))"
   ]
  },
  {
   "cell_type": "code",
   "execution_count": 29,
   "metadata": {},
   "outputs": [
    {
     "name": "stdout",
     "output_type": "stream",
     "text": [
      "-- Predict --\n",
      "{'circle': 0, 'rectangle': 1, 'triangle': 2}\n",
      "[[0.048 0.029 0.923]\n",
      " [0.035 0.014 0.951]\n",
      " [0.309 0.016 0.675]\n",
      " [0.011 0.002 0.987]\n",
      " [0.082 0.070 0.849]\n",
      " [0.034 0.022 0.944]\n",
      " [0.017 0.011 0.972]\n",
      " [0.006 0.003 0.991]\n",
      " [0.095 0.057 0.848]\n",
      " [0.007 0.005 0.988]\n",
      " [0.007 0.007 0.985]\n",
      " [0.004 0.003 0.992]\n",
      " [0.015 0.006 0.979]\n",
      " [0.434 0.026 0.540]\n",
      " [0.055 0.009 0.937]]\n"
     ]
    }
   ],
   "source": [
    "print(\"-- Predict --\")\n",
    "output = model.predict_generator(verification_generator, steps=5)\n",
    "np.set_printoptions(formatter={'float': lambda x: \"{0:0.3f}\".format(x)})\n",
    "print(test_generator.class_indices)\n",
    "print(output)"
   ]
  },
  {
   "cell_type": "code",
   "execution_count": null,
   "metadata": {},
   "outputs": [],
   "source": []
  }
 ],
 "metadata": {
  "kernelspec": {
   "display_name": "Python 3",
   "language": "python",
   "name": "python3"
  },
  "language_info": {
   "codemirror_mode": {
    "name": "ipython",
    "version": 3
   },
   "file_extension": ".py",
   "mimetype": "text/x-python",
   "name": "python",
   "nbconvert_exporter": "python",
   "pygments_lexer": "ipython3",
   "version": "3.7.9"
  }
 },
 "nbformat": 4,
 "nbformat_minor": 4
}
