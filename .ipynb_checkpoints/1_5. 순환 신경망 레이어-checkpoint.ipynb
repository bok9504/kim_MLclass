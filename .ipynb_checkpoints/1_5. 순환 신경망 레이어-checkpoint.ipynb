{
 "cells": [
  {
   "cell_type": "markdown",
   "metadata": {},
   "source": [
    "# LSTM(Long Short-Term Memory units)\n",
    "###  - 긴 시퀀스를 기억할 수 있는 레이어"
   ]
  },
  {
   "cell_type": "code",
   "execution_count": null,
   "metadata": {},
   "outputs": [],
   "source": [
    "LSTM(3, input_dim=1, input_length=4, return_sequences=True, stateful=False)"
   ]
  },
  {
   "cell_type": "markdown",
   "metadata": {},
   "source": [
    "#### 첫번째 인자 : 메모리 셀의 개수\n",
    "#### input_dim : 입력 속성 수\n",
    "#### input_length : 시퀀스 데이터의 입력 길이\n",
    "#### return_sequences : 마지막 시퀀스에서만 출력, 혹은 각 시퀀스 마다 출력 여부\n",
    "#### stateful : 학습 샘플의 가장 마지막 상태가 다음 샘플 학습 시에 입력으로 전달되는 여부"
   ]
  },
  {
   "cell_type": "markdown",
   "metadata": {},
   "source": [
    "## LSTM 형식\n",
    "### 1) 입력형태"
   ]
  },
  {
   "cell_type": "markdown",
   "metadata": {},
   "source": [
    "![image](image/LSTM1.png)"
   ]
  },
  {
   "cell_type": "markdown",
   "metadata": {},
   "source": [
    "#### (1) Dense : 1개의 input, 3개의 output, 1개의 weight\n",
    "#### (2) LSTM : 1개의 input, 3개의 output, 1개의 weight, 3개의 기억되는 hidden 뉴런\n",
    "#### (3) 연결된 LSTM : 2번 LSTM이 4개가 연결된 모습(input_length : 4)"
   ]
  },
  {
   "cell_type": "markdown",
   "metadata": {},
   "source": [
    "### 2) 출력형태"
   ]
  },
  {
   "cell_type": "markdown",
   "metadata": {},
   "source": [
    "![image](image/LSTM2.png)"
   ]
  },
  {
   "cell_type": "markdown",
   "metadata": {},
   "source": [
    "#### (1) return_sequences = False : 마지막 시퀀스에서 한 번만 출력 ( many to single )\n",
    "#### (2) return_sequences = True : 각 시퀀스에서 모두 출력 ( many to many )"
   ]
  },
  {
   "cell_type": "markdown",
   "metadata": {},
   "source": [
    "### 3) 상태유지(stateful) 모드"
   ]
  },
  {
   "cell_type": "markdown",
   "metadata": {},
   "source": [
    "![image](image/LSTM3.png)"
   ]
  },
  {
   "cell_type": "markdown",
   "metadata": {},
   "source": [
    "#### (1) stateful = False : 도출된 현재의 상태(weight)가 다음 샘플 학습시 초기화된 상태로 입력\n",
    "#### (2) stateful =True : 도출된 현재의 상태(weight)가 다음 샘플에 전달되어 영향을 끼침"
   ]
  },
  {
   "cell_type": "code",
   "execution_count": null,
   "metadata": {},
   "outputs": [],
   "source": []
  }
 ],
 "metadata": {
  "kernelspec": {
   "display_name": "Python 3",
   "language": "python",
   "name": "python3"
  },
  "language_info": {
   "codemirror_mode": {
    "name": "ipython",
    "version": 3
   },
   "file_extension": ".py",
   "mimetype": "text/x-python",
   "name": "python",
   "nbconvert_exporter": "python",
   "pygments_lexer": "ipython3",
   "version": "3.7.9"
  }
 },
 "nbformat": 4,
 "nbformat_minor": 4
}
