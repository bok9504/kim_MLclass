{
 "cells": [
  {
   "cell_type": "markdown",
   "metadata": {},
   "source": [
    "# 다층 퍼셉트론 레이어 기초"
   ]
  },
  {
   "cell_type": "markdown",
   "metadata": {},
   "source": [
    "## 1) 뉴런의 구조"
   ]
  },
  {
   "cell_type": "markdown",
   "metadata": {},
   "source": [
    "![MLP_Layer](image/MLP_Layer_Talk_lego_1.png)"
   ]
  },
  {
   "cell_type": "markdown",
   "metadata": {},
   "source": [
    "#### - 회색블럭(x,y) : 입력값, 출력값\n",
    "#### - 녹색블럭      : 시냅스의 강도(wight)\n",
    "#### - 노란,빨강     : 연산자\n",
    "#### - 파란블럭      : 활성화 함수(sigmoid 사용)"
   ]
  },
  {
   "cell_type": "code",
   "execution_count": null,
   "metadata": {},
   "outputs": [],
   "source": [
    "Dense(1,input_dim=3, activation='sigmoid')"
   ]
  },
  {
   "cell_type": "markdown",
   "metadata": {},
   "source": [
    "## 2) 다중클래스 분류문제 뉴런"
   ]
  },
  {
   "cell_type": "markdown",
   "metadata": {},
   "source": [
    "![MLP_Layer](image/MLP_Layer_Talk_lego_2.png)"
   ]
  },
  {
   "cell_type": "markdown",
   "metadata": {},
   "source": [
    "### 3개 클래스 분류 뉴런 ( 입력신호 4개, 출력신호 3개 )"
   ]
  },
  {
   "cell_type": "code",
   "execution_count": null,
   "metadata": {},
   "outputs": [],
   "source": [
    "Dense(3, input_dim=4, activation='softmax')"
   ]
  },
  {
   "cell_type": "markdown",
   "metadata": {},
   "source": [
    "## 3) 다층 레이어"
   ]
  },
  {
   "cell_type": "markdown",
   "metadata": {},
   "source": [
    "![MLP_Layer](image/MLP_Layer_Talk_lego_3.png)"
   ]
  },
  {
   "cell_type": "markdown",
   "metadata": {},
   "source": [
    "#### 3층 레이어 구조\n",
    "#### - 입력층 입출력 : 4, 8\n",
    "#### - 은닉층 입출력 : 8, 6\n",
    "#### - 출력층 입출력 : 6, 1"
   ]
  },
  {
   "cell_type": "code",
   "execution_count": 10,
   "metadata": {},
   "outputs": [],
   "source": [
    "from keras.models import Sequential\n",
    "from keras.layers import Dense\n",
    "from IPython.display import Image\n",
    "\n",
    "model = Sequential()\n",
    "\n",
    "model.add(Dense(8, input_dim=4, kernel_initializer='uniform', activation='relu'))\n",
    "model.add(Dense(6, kernel_initializer='uniform', activation='relu'))\n",
    "model.add(Dense(1, kernel_initializer='uniform', activation='sigmoid'))"
   ]
  },
  {
   "cell_type": "code",
   "execution_count": 11,
   "metadata": {
    "scrolled": true
   },
   "outputs": [
    {
     "data": {
      "image/svg+xml": [
       "<svg height=\"405pt\" viewBox=\"0.00 0.00 285.00 304.00\" width=\"380pt\" xmlns=\"http://www.w3.org/2000/svg\" xmlns:xlink=\"http://www.w3.org/1999/xlink\">\n",
       "<g class=\"graph\" id=\"graph0\" transform=\"scale(1.33333 1.33333) rotate(0) translate(4 300)\">\n",
       "<title>G</title>\n",
       "<polygon fill=\"white\" points=\"-4,4 -4,-300 281,-300 281,4 -4,4\" stroke=\"none\"/>\n",
       "<!-- 2511066089160 -->\n",
       "<g class=\"node\" id=\"node1\"><title>2511066089160</title>\n",
       "<polygon fill=\"none\" points=\"0,-249.5 0,-295.5 277,-295.5 277,-249.5 0,-249.5\" stroke=\"black\"/>\n",
       "<text font-family=\"Times New Roman,serif\" font-size=\"14.00\" text-anchor=\"middle\" x=\"83\" y=\"-268.8\">dense_4_input: InputLayer</text>\n",
       "<polyline fill=\"none\" points=\"166,-249.5 166,-295.5 \" stroke=\"black\"/>\n",
       "<text font-family=\"Times New Roman,serif\" font-size=\"14.00\" text-anchor=\"middle\" x=\"194\" y=\"-280.3\">input:</text>\n",
       "<polyline fill=\"none\" points=\"166,-272.5 222,-272.5 \" stroke=\"black\"/>\n",
       "<text font-family=\"Times New Roman,serif\" font-size=\"14.00\" text-anchor=\"middle\" x=\"194\" y=\"-257.3\">output:</text>\n",
       "<polyline fill=\"none\" points=\"222,-249.5 222,-295.5 \" stroke=\"black\"/>\n",
       "<text font-family=\"Times New Roman,serif\" font-size=\"14.00\" text-anchor=\"middle\" x=\"249.5\" y=\"-280.3\">[(?, 4)]</text>\n",
       "<polyline fill=\"none\" points=\"222,-272.5 277,-272.5 \" stroke=\"black\"/>\n",
       "<text font-family=\"Times New Roman,serif\" font-size=\"14.00\" text-anchor=\"middle\" x=\"249.5\" y=\"-257.3\">[(?, 4)]</text>\n",
       "</g>\n",
       "<!-- 2511066118408 -->\n",
       "<g class=\"node\" id=\"node2\"><title>2511066118408</title>\n",
       "<polygon fill=\"none\" points=\"35.5,-166.5 35.5,-212.5 241.5,-212.5 241.5,-166.5 35.5,-166.5\" stroke=\"black\"/>\n",
       "<text font-family=\"Times New Roman,serif\" font-size=\"14.00\" text-anchor=\"middle\" x=\"87.5\" y=\"-185.8\">dense_4: Dense</text>\n",
       "<polyline fill=\"none\" points=\"139.5,-166.5 139.5,-212.5 \" stroke=\"black\"/>\n",
       "<text font-family=\"Times New Roman,serif\" font-size=\"14.00\" text-anchor=\"middle\" x=\"167.5\" y=\"-197.3\">input:</text>\n",
       "<polyline fill=\"none\" points=\"139.5,-189.5 195.5,-189.5 \" stroke=\"black\"/>\n",
       "<text font-family=\"Times New Roman,serif\" font-size=\"14.00\" text-anchor=\"middle\" x=\"167.5\" y=\"-174.3\">output:</text>\n",
       "<polyline fill=\"none\" points=\"195.5,-166.5 195.5,-212.5 \" stroke=\"black\"/>\n",
       "<text font-family=\"Times New Roman,serif\" font-size=\"14.00\" text-anchor=\"middle\" x=\"218.5\" y=\"-197.3\">(?, 4)</text>\n",
       "<polyline fill=\"none\" points=\"195.5,-189.5 241.5,-189.5 \" stroke=\"black\"/>\n",
       "<text font-family=\"Times New Roman,serif\" font-size=\"14.00\" text-anchor=\"middle\" x=\"218.5\" y=\"-174.3\">(?, 8)</text>\n",
       "</g>\n",
       "<!-- 2511066089160&#45;&gt;2511066118408 -->\n",
       "<g class=\"edge\" id=\"edge1\"><title>2511066089160-&gt;2511066118408</title>\n",
       "<path d=\"M138.5,-249.366C138.5,-241.152 138.5,-231.658 138.5,-222.725\" fill=\"none\" stroke=\"black\"/>\n",
       "<polygon fill=\"black\" points=\"142,-222.607 138.5,-212.607 135,-222.607 142,-222.607\" stroke=\"black\"/>\n",
       "</g>\n",
       "<!-- 2511066118280 -->\n",
       "<g class=\"node\" id=\"node3\"><title>2511066118280</title>\n",
       "<polygon fill=\"none\" points=\"35.5,-83.5 35.5,-129.5 241.5,-129.5 241.5,-83.5 35.5,-83.5\" stroke=\"black\"/>\n",
       "<text font-family=\"Times New Roman,serif\" font-size=\"14.00\" text-anchor=\"middle\" x=\"87.5\" y=\"-102.8\">dense_5: Dense</text>\n",
       "<polyline fill=\"none\" points=\"139.5,-83.5 139.5,-129.5 \" stroke=\"black\"/>\n",
       "<text font-family=\"Times New Roman,serif\" font-size=\"14.00\" text-anchor=\"middle\" x=\"167.5\" y=\"-114.3\">input:</text>\n",
       "<polyline fill=\"none\" points=\"139.5,-106.5 195.5,-106.5 \" stroke=\"black\"/>\n",
       "<text font-family=\"Times New Roman,serif\" font-size=\"14.00\" text-anchor=\"middle\" x=\"167.5\" y=\"-91.3\">output:</text>\n",
       "<polyline fill=\"none\" points=\"195.5,-83.5 195.5,-129.5 \" stroke=\"black\"/>\n",
       "<text font-family=\"Times New Roman,serif\" font-size=\"14.00\" text-anchor=\"middle\" x=\"218.5\" y=\"-114.3\">(?, 8)</text>\n",
       "<polyline fill=\"none\" points=\"195.5,-106.5 241.5,-106.5 \" stroke=\"black\"/>\n",
       "<text font-family=\"Times New Roman,serif\" font-size=\"14.00\" text-anchor=\"middle\" x=\"218.5\" y=\"-91.3\">(?, 6)</text>\n",
       "</g>\n",
       "<!-- 2511066118408&#45;&gt;2511066118280 -->\n",
       "<g class=\"edge\" id=\"edge2\"><title>2511066118408-&gt;2511066118280</title>\n",
       "<path d=\"M138.5,-166.366C138.5,-158.152 138.5,-148.658 138.5,-139.725\" fill=\"none\" stroke=\"black\"/>\n",
       "<polygon fill=\"black\" points=\"142,-139.607 138.5,-129.607 135,-139.607 142,-139.607\" stroke=\"black\"/>\n",
       "</g>\n",
       "<!-- 2511066449224 -->\n",
       "<g class=\"node\" id=\"node4\"><title>2511066449224</title>\n",
       "<polygon fill=\"none\" points=\"35.5,-0.5 35.5,-46.5 241.5,-46.5 241.5,-0.5 35.5,-0.5\" stroke=\"black\"/>\n",
       "<text font-family=\"Times New Roman,serif\" font-size=\"14.00\" text-anchor=\"middle\" x=\"87.5\" y=\"-19.8\">dense_6: Dense</text>\n",
       "<polyline fill=\"none\" points=\"139.5,-0.5 139.5,-46.5 \" stroke=\"black\"/>\n",
       "<text font-family=\"Times New Roman,serif\" font-size=\"14.00\" text-anchor=\"middle\" x=\"167.5\" y=\"-31.3\">input:</text>\n",
       "<polyline fill=\"none\" points=\"139.5,-23.5 195.5,-23.5 \" stroke=\"black\"/>\n",
       "<text font-family=\"Times New Roman,serif\" font-size=\"14.00\" text-anchor=\"middle\" x=\"167.5\" y=\"-8.3\">output:</text>\n",
       "<polyline fill=\"none\" points=\"195.5,-0.5 195.5,-46.5 \" stroke=\"black\"/>\n",
       "<text font-family=\"Times New Roman,serif\" font-size=\"14.00\" text-anchor=\"middle\" x=\"218.5\" y=\"-31.3\">(?, 6)</text>\n",
       "<polyline fill=\"none\" points=\"195.5,-23.5 241.5,-23.5 \" stroke=\"black\"/>\n",
       "<text font-family=\"Times New Roman,serif\" font-size=\"14.00\" text-anchor=\"middle\" x=\"218.5\" y=\"-8.3\">(?, 1)</text>\n",
       "</g>\n",
       "<!-- 2511066118280&#45;&gt;2511066449224 -->\n",
       "<g class=\"edge\" id=\"edge3\"><title>2511066118280-&gt;2511066449224</title>\n",
       "<path d=\"M138.5,-83.3664C138.5,-75.1516 138.5,-65.6579 138.5,-56.7252\" fill=\"none\" stroke=\"black\"/>\n",
       "<polygon fill=\"black\" points=\"142,-56.6068 138.5,-46.6068 135,-56.6069 142,-56.6068\" stroke=\"black\"/>\n",
       "</g>\n",
       "</g>\n",
       "</svg>"
      ],
      "text/plain": [
       "<IPython.core.display.SVG object>"
      ]
     },
     "execution_count": 11,
     "metadata": {},
     "output_type": "execute_result"
    }
   ],
   "source": [
    "from IPython.display import SVG\n",
    "from tensorflow.keras.utils import model_to_dot\n",
    "\n",
    "SVG(model_to_dot(model, show_shapes=True).create(prog='dot', format='svg'))"
   ]
  },
  {
   "cell_type": "code",
   "execution_count": 12,
   "metadata": {
    "scrolled": true
   },
   "outputs": [
    {
     "data": {
      "image/png": "[encoded data removed]",
      "text/plain": [
       "<IPython.core.display.Image object>"
      ]
     },
     "execution_count": 12,
     "metadata": {},
     "output_type": "execute_result"
    }
   ],
   "source": [
    "from keras.utils.vis_utils import plot_model\n",
    "\n",
    "plot_model(model, to_file='name.png', show_shapes=True, show_layer_names=True)"
   ]
  },
  {
   "cell_type": "markdown",
   "metadata": {},
   "source": [
    "## 4) Dense 클래스 사용 예제"
   ]
  },
  {
   "cell_type": "code",
   "execution_count": null,
   "metadata": {},
   "outputs": [],
   "source": [
    "Dense(8, input_dim=4, kernel_initializer='uniform', activation='relu')"
   ]
  },
  {
   "cell_type": "markdown",
   "metadata": {},
   "source": [
    "#### 첫번째 인자 : 출력 뉴런의 수를 설정합니다.\n",
    "#### input_dim : 입력 뉴런의 수를 설정합니다.\n",
    "#### init : 가중치 초기화 방법 설정합니다.\n",
    "#####          - ‘uniform’ : 균일 분포\n",
    "#####          - ‘normal’ : 가우시안 분포\n",
    "#### activation : 활성화 함수 설정합니다.\n",
    "#####          - ‘linear’ : 디폴트 값, 입력뉴런과 가중치로 계산된 결과값이 그대로 출력으로 나옵니다.\n",
    "#####          - ‘relu’ : rectifier 함수, 은익층에 주로 쓰입니다.\n",
    "#####          - ‘sigmoid’ : 시그모이드 함수, 이진 분류 문제에서 출력층에 주로 쓰입니다.\n",
    "#####          - ‘softmax’ : 소프트맥스 함수, 다중 클래스 분류 문제에서 출력층에 주로 쓰입니다."
   ]
  },
  {
   "cell_type": "markdown",
   "metadata": {},
   "source": [
    "## 활성화함수 정리\n",
    "### - sigmoid : 입력 뉴런과 가중치를 계산한 값을 0에서 1사이로 표현하는 함수\n",
    "### - softmax : 입력 뉴런과 가중치를 계산한 값을 각 클래스의 활률 개념으로 표현하는 함수\n",
    "### - relu : 출력층 이전의 은닉층, 수치자료시 입력층에 주로 사용되는 함수"
   ]
  },
  {
   "cell_type": "code",
   "execution_count": null,
   "metadata": {},
   "outputs": [],
   "source": []
  }
 ],
 "metadata": {
  "kernelspec": {
   "display_name": "Python 3",
   "language": "python",
   "name": "python3"
  },
  "language_info": {
   "codemirror_mode": {
    "name": "ipython",
    "version": 3
   },
   "file_extension": ".py",
   "mimetype": "text/x-python",
   "name": "python",
   "nbconvert_exporter": "python",
   "pygments_lexer": "ipython3",
   "version": "3.7.9"
  }
 },
 "nbformat": 4,
 "nbformat_minor": 4
}
